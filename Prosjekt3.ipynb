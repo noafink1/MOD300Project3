{
 "cells": [
  {
   "cell_type": "markdown",
   "metadata": {
    "id": "M5nBVuTuXAPY"
   },
   "source": [
    "#Project 3 - Random Walk"
   ]
  },
  {
   "cell_type": "markdown",
   "metadata": {
    "id": "9hOUG4h_XYXC"
   },
   "source": [
    "**Noa Finkenhagen and Andreas Faye Werner**"
   ]
  },
  {
   "cell_type": "markdown",
   "metadata": {
    "id": "ucAOUr0lXY6N"
   },
   "source": [
    "## Abstract"
   ]
  },
  {
   "cell_type": "markdown",
   "metadata": {
    "id": "c3Cmim4KXayh"
   },
   "source": [
    "..."
   ]
  },
  {
   "cell_type": "markdown",
   "metadata": {
    "id": "h7LfNxsGXbWt"
   },
   "source": [
    "## Introduction"
   ]
  },
  {
   "cell_type": "markdown",
   "metadata": {
    "id": "97kwzAyhXeWr"
   },
   "source": [
    "..."
   ]
  },
  {
   "cell_type": "markdown",
   "metadata": {
    "id": "B8IQm926XfC7"
   },
   "source": [
    "## Exercise 1 - Random walk *SZ*-model"
   ]
  },
  {
   "cell_type": "code",
   "execution_count": 609,
   "metadata": {
    "id": "scrPYOZ0Xvqs"
   },
   "outputs": [],
   "source": [
    "import matplotlib.pyplot as plt\n",
    "import numpy as np\n",
    "\n",
    "from SimulationClass import Simulation\n",
    "%run -i 'SimulationClass.py'"
   ]
  },
  {
   "cell_type": "code",
   "execution_count": 621,
   "metadata": {},
   "outputs": [],
   "source": [
    "all_humans = []\n",
    "all_zombies = []"
   ]
  }
 ],
 "metadata": {
  "colab": {
   "provenance": []
  },
  "kernelspec": {
   "display_name": "Python 3 (ipykernel)",
   "language": "python",
   "name": "python3"
  },
  "language_info": {
   "codemirror_mode": {
    "name": "ipython",
    "version": 3
   },
   "file_extension": ".py",
   "mimetype": "text/x-python",
   "name": "python",
   "nbconvert_exporter": "python",
   "pygments_lexer": "ipython3",
   "version": "3.8.8"
  }
 },
 "nbformat": 4,
 "nbformat_minor": 4
}
